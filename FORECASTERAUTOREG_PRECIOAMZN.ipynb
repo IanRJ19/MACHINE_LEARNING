{
 "cells": [
  {
   "cell_type": "code",
   "execution_count": 145,
   "metadata": {},
   "outputs": [],
   "source": [
    "# Tratamiento de datos\n",
    "# ==============================================================================\n",
    "import numpy as np\n",
    "import pandas as pd\n",
    "\n",
    "# Gráficos\n",
    "# ==============================================================================\n",
    "import matplotlib.pyplot as plt\n",
    "plt.style.use('fivethirtyeight')\n",
    "plt.rcParams['lines.linewidth'] = 1.5\n",
    "plt.rcParams['font.size'] = 10\n",
    "\n",
    "# Modelado y Forecasting\n",
    "# ==============================================================================\n",
    "from sklearn.linear_model import LinearRegression\n",
    "from sklearn.linear_model import Lasso\n",
    "from sklearn.ensemble import RandomForestRegressor\n",
    "from sklearn.metrics import mean_squared_error\n",
    "from sklearn.metrics import mean_absolute_error\n",
    "from sklearn.preprocessing import StandardScaler\n",
    "\n",
    "from skforecast.ForecasterAutoreg import ForecasterAutoreg\n",
    "from skforecast.ForecasterAutoregCustom import ForecasterAutoregCustom\n",
    "from skforecast.ForecasterAutoregDirect import ForecasterAutoregDirect\n",
    "from skforecast.model_selection import grid_search_forecaster\n",
    "from skforecast.model_selection import backtesting_forecaster\n",
    "from skforecast.utils import save_forecaster\n",
    "from skforecast.utils import load_forecaster\n",
    "\n",
    "# Configuración warnings\n",
    "# ==============================================================================\n",
    "import warnings\n",
    "# warnings.filterwarnings('ignore')"
   ]
  },
  {
   "cell_type": "code",
   "execution_count": 146,
   "metadata": {},
   "outputs": [
    {
     "name": "stdout",
     "output_type": "stream",
     "text": [
      "[*********************100%***********************]  1 of 1 completed\n"
     ]
    }
   ],
   "source": [
    "\n",
    "import matplotlib.pyplot as plt\n",
    "import yfinance as yf\n",
    "from sklearn.metrics import mean_squared_error\n",
    "\n",
    "# Obtener los datos históricos de las acciones de Amazon\n",
    "symbol = 'AMZN'\n",
    "start_date = '2022-01-01'\n",
    "end_date = '2023-07-01'\n",
    "datos = yf.download(symbol, start=start_date, end=end_date)\n"
   ]
  },
  {
   "cell_type": "code",
   "execution_count": 147,
   "metadata": {},
   "outputs": [],
   "source": [
    "datos=datos.reset_index()"
   ]
  },
  {
   "cell_type": "code",
   "execution_count": 148,
   "metadata": {},
   "outputs": [],
   "source": [
    "# Renombrar las columnas del DataFrame\n",
    "datos = datos.rename(columns={\n",
    "    'Date': 'fecha',\n",
    "    'Open': 'exog_1',\n",
    "    'High': 'exog_2',\n",
    "    'Low': 'exog_3',\n",
    "    'Close': 'exog_4',\n",
    "    'Adj Close': 'y',\n",
    "    'Volume': 'exog_5'\n",
    "})\n"
   ]
  },
  {
   "cell_type": "code",
   "execution_count": 149,
   "metadata": {},
   "outputs": [
    {
     "data": {
      "text/html": [
       "<div>\n",
       "<style scoped>\n",
       "    .dataframe tbody tr th:only-of-type {\n",
       "        vertical-align: middle;\n",
       "    }\n",
       "\n",
       "    .dataframe tbody tr th {\n",
       "        vertical-align: top;\n",
       "    }\n",
       "\n",
       "    .dataframe thead th {\n",
       "        text-align: right;\n",
       "    }\n",
       "</style>\n",
       "<table border=\"1\" class=\"dataframe\">\n",
       "  <thead>\n",
       "    <tr style=\"text-align: right;\">\n",
       "      <th></th>\n",
       "      <th>fecha</th>\n",
       "      <th>exog_1</th>\n",
       "      <th>exog_2</th>\n",
       "      <th>exog_3</th>\n",
       "      <th>exog_4</th>\n",
       "      <th>y</th>\n",
       "      <th>exog_5</th>\n",
       "    </tr>\n",
       "  </thead>\n",
       "  <tbody>\n",
       "    <tr>\n",
       "      <th>0</th>\n",
       "      <td>2022-01-03</td>\n",
       "      <td>167.550003</td>\n",
       "      <td>170.703506</td>\n",
       "      <td>166.160507</td>\n",
       "      <td>170.404495</td>\n",
       "      <td>170.404495</td>\n",
       "      <td>63520000</td>\n",
       "    </tr>\n",
       "    <tr>\n",
       "      <th>1</th>\n",
       "      <td>2022-01-04</td>\n",
       "      <td>170.438004</td>\n",
       "      <td>171.399994</td>\n",
       "      <td>166.349503</td>\n",
       "      <td>167.522003</td>\n",
       "      <td>167.522003</td>\n",
       "      <td>70726000</td>\n",
       "    </tr>\n",
       "    <tr>\n",
       "      <th>2</th>\n",
       "      <td>2022-01-05</td>\n",
       "      <td>166.882996</td>\n",
       "      <td>167.126495</td>\n",
       "      <td>164.356995</td>\n",
       "      <td>164.356995</td>\n",
       "      <td>164.356995</td>\n",
       "      <td>64302000</td>\n",
       "    </tr>\n",
       "    <tr>\n",
       "      <th>3</th>\n",
       "      <td>2022-01-06</td>\n",
       "      <td>163.450500</td>\n",
       "      <td>164.800003</td>\n",
       "      <td>161.936996</td>\n",
       "      <td>163.253998</td>\n",
       "      <td>163.253998</td>\n",
       "      <td>51958000</td>\n",
       "    </tr>\n",
       "    <tr>\n",
       "      <th>4</th>\n",
       "      <td>2022-01-07</td>\n",
       "      <td>163.839005</td>\n",
       "      <td>165.243500</td>\n",
       "      <td>162.031006</td>\n",
       "      <td>162.554001</td>\n",
       "      <td>162.554001</td>\n",
       "      <td>46606000</td>\n",
       "    </tr>\n",
       "    <tr>\n",
       "      <th>...</th>\n",
       "      <td>...</td>\n",
       "      <td>...</td>\n",
       "      <td>...</td>\n",
       "      <td>...</td>\n",
       "      <td>...</td>\n",
       "      <td>...</td>\n",
       "      <td>...</td>\n",
       "    </tr>\n",
       "    <tr>\n",
       "      <th>370</th>\n",
       "      <td>2023-06-26</td>\n",
       "      <td>129.330002</td>\n",
       "      <td>131.490005</td>\n",
       "      <td>127.099998</td>\n",
       "      <td>127.330002</td>\n",
       "      <td>127.330002</td>\n",
       "      <td>59989300</td>\n",
       "    </tr>\n",
       "    <tr>\n",
       "      <th>371</th>\n",
       "      <td>2023-06-27</td>\n",
       "      <td>128.630005</td>\n",
       "      <td>130.089996</td>\n",
       "      <td>127.550003</td>\n",
       "      <td>129.179993</td>\n",
       "      <td>129.179993</td>\n",
       "      <td>46801000</td>\n",
       "    </tr>\n",
       "    <tr>\n",
       "      <th>372</th>\n",
       "      <td>2023-06-28</td>\n",
       "      <td>128.940002</td>\n",
       "      <td>131.479996</td>\n",
       "      <td>128.440002</td>\n",
       "      <td>129.039993</td>\n",
       "      <td>129.039993</td>\n",
       "      <td>52149500</td>\n",
       "    </tr>\n",
       "    <tr>\n",
       "      <th>373</th>\n",
       "      <td>2023-06-29</td>\n",
       "      <td>128.770004</td>\n",
       "      <td>129.259995</td>\n",
       "      <td>127.260002</td>\n",
       "      <td>127.900002</td>\n",
       "      <td>127.900002</td>\n",
       "      <td>40761000</td>\n",
       "    </tr>\n",
       "    <tr>\n",
       "      <th>374</th>\n",
       "      <td>2023-06-30</td>\n",
       "      <td>129.470001</td>\n",
       "      <td>131.250000</td>\n",
       "      <td>128.949997</td>\n",
       "      <td>130.360001</td>\n",
       "      <td>130.360001</td>\n",
       "      <td>54310500</td>\n",
       "    </tr>\n",
       "  </tbody>\n",
       "</table>\n",
       "<p>375 rows × 7 columns</p>\n",
       "</div>"
      ],
      "text/plain": [
       "         fecha      exog_1      exog_2      exog_3      exog_4           y  \\\n",
       "0   2022-01-03  167.550003  170.703506  166.160507  170.404495  170.404495   \n",
       "1   2022-01-04  170.438004  171.399994  166.349503  167.522003  167.522003   \n",
       "2   2022-01-05  166.882996  167.126495  164.356995  164.356995  164.356995   \n",
       "3   2022-01-06  163.450500  164.800003  161.936996  163.253998  163.253998   \n",
       "4   2022-01-07  163.839005  165.243500  162.031006  162.554001  162.554001   \n",
       "..         ...         ...         ...         ...         ...         ...   \n",
       "370 2023-06-26  129.330002  131.490005  127.099998  127.330002  127.330002   \n",
       "371 2023-06-27  128.630005  130.089996  127.550003  129.179993  129.179993   \n",
       "372 2023-06-28  128.940002  131.479996  128.440002  129.039993  129.039993   \n",
       "373 2023-06-29  128.770004  129.259995  127.260002  127.900002  127.900002   \n",
       "374 2023-06-30  129.470001  131.250000  128.949997  130.360001  130.360001   \n",
       "\n",
       "       exog_5  \n",
       "0    63520000  \n",
       "1    70726000  \n",
       "2    64302000  \n",
       "3    51958000  \n",
       "4    46606000  \n",
       "..        ...  \n",
       "370  59989300  \n",
       "371  46801000  \n",
       "372  52149500  \n",
       "373  40761000  \n",
       "374  54310500  \n",
       "\n",
       "[375 rows x 7 columns]"
      ]
     },
     "execution_count": 149,
     "metadata": {},
     "output_type": "execute_result"
    }
   ],
   "source": [
    "datos"
   ]
  },
  {
   "cell_type": "code",
   "execution_count": 150,
   "metadata": {},
   "outputs": [
    {
     "name": "stdout",
     "output_type": "stream",
     "text": [
      "Número de filas con missing values: 0.0\n"
     ]
    }
   ],
   "source": [
    "print(f'Número de filas con missing values: {datos.isnull().any(axis=1).mean()}')\n"
   ]
  },
  {
   "cell_type": "code",
   "execution_count": 151,
   "metadata": {},
   "outputs": [],
   "source": [
    "# Verificar que un índice temporal está completo\n",
    "# ==============================================================================\n",
    "#(datos.index == pd.date_range(\n",
    "#                    start = datos.index.min(),\n",
    "#                    end   = datos.index.max(),\n",
    "#                    freq  = datos.index.freq)\n",
    "#).all()"
   ]
  },
  {
   "cell_type": "code",
   "execution_count": 152,
   "metadata": {},
   "outputs": [
    {
     "name": "stdout",
     "output_type": "stream",
     "text": [
      "Fechas train : 0 --- 338  (n=339)\n",
      "Fechas test  : 339 --- 374  (n=36)\n"
     ]
    },
    {
     "data": {
      "image/png": "[encoded data removed]",
      "text/plain": [
       "<Figure size 700x250 with 1 Axes>"
      ]
     },
     "metadata": {},
     "output_type": "display_data"
    }
   ],
   "source": [
    "# Separación datos train-test\n",
    "# ==============================================================================\n",
    "steps = 36\n",
    "datos_train = datos[:-steps]\n",
    "datos_test  = datos[-steps:]\n",
    "\n",
    "print(f\"Fechas train : {datos_train.index.min()} --- {datos_train.index.max()}  (n={len(datos_train)})\")\n",
    "print(f\"Fechas test  : {datos_test.index.min()} --- {datos_test.index.max()}  (n={len(datos_test)})\")\n",
    "\n",
    "fig, ax = plt.subplots(figsize=(7, 2.5))\n",
    "datos_train['y'].plot(ax=ax, label='train')\n",
    "datos_test['y'].plot(ax=ax, label='test')\n",
    "ax.legend();"
   ]
  },
  {
   "cell_type": "code",
   "execution_count": 153,
   "metadata": {},
   "outputs": [
    {
     "data": {
      "text/plain": [
       "================= \n",
       "ForecasterAutoreg \n",
       "================= \n",
       "Regressor: RandomForestRegressor(random_state=123) \n",
       "Lags: [1 2 3 4 5 6] \n",
       "Transformer for y: None \n",
       "Transformer for exog: None \n",
       "Window size: 6 \n",
       "Weight function included: False \n",
       "Exogenous included: False \n",
       "Type of exogenous variable: None \n",
       "Exogenous variables names: None \n",
       "Training range: [0, 338] \n",
       "Training index type: RangeIndex \n",
       "Training index frequency: 1 \n",
       "Regressor parameters: {'bootstrap': True, 'ccp_alpha': 0.0, 'criterion': 'squared_error', 'max_depth': None, 'max_features': 1.0, 'max_leaf_nodes': None, 'max_samples': None, 'min_impurity_decrease': 0.0, 'min_samples_leaf': 1, 'min_samples_split': 2, 'min_weight_fraction_leaf': 0.0, 'n_estimators': 100, 'n_jobs': None, 'oob_score': False, 'random_state': 123, 'verbose': 0, 'warm_start': False} \n",
       "fit_kwargs: {} \n",
       "Creation date: 2023-07-29 12:31:54 \n",
       "Last fit date: 2023-07-29 12:31:54 \n",
       "Skforecast version: 0.9.1 \n",
       "Python version: 3.10.6 \n",
       "Forecaster id: None "
      ]
     },
     "execution_count": 153,
     "metadata": {},
     "output_type": "execute_result"
    }
   ],
   "source": [
    "# Crear y entrenar forecaster\n",
    "# ==============================================================================\n",
    "forecaster = ForecasterAutoreg(\n",
    "                regressor = RandomForestRegressor(random_state=123),\n",
    "                lags = 6\n",
    "             )\n",
    "\n",
    "forecaster.fit(y=datos_train['y'])\n",
    "forecaster"
   ]
  },
  {
   "cell_type": "code",
   "execution_count": 154,
   "metadata": {},
   "outputs": [
    {
     "data": {
      "text/plain": [
       "339    108.032210\n",
       "340    107.051030\n",
       "341    107.338980\n",
       "342    107.874686\n",
       "343    107.775040\n",
       "Name: pred, dtype: float64"
      ]
     },
     "execution_count": 154,
     "metadata": {},
     "output_type": "execute_result"
    }
   ],
   "source": [
    "# Predicciones\n",
    "# ==============================================================================\n",
    "steps = 36\n",
    "predicciones = forecaster.predict(steps=steps)\n",
    "predicciones.head(5)"
   ]
  },
  {
   "cell_type": "code",
   "execution_count": 155,
   "metadata": {},
   "outputs": [
    {
     "data": {
      "image/png": "[encoded data removed]",
      "text/plain": [
       "<Figure size 700x250 with 1 Axes>"
      ]
     },
     "metadata": {},
     "output_type": "display_data"
    }
   ],
   "source": [
    "# Gráfico\n",
    "# ==============================================================================\n",
    "fig, ax = plt.subplots(figsize=(7, 2.5))\n",
    "datos_train['y'].plot(ax=ax, label='train')\n",
    "datos_test['y'].plot(ax=ax, label='test')\n",
    "predicciones.plot(ax=ax, label='predicciones')\n",
    "ax.legend();"
   ]
  },
  {
   "cell_type": "code",
   "execution_count": 156,
   "metadata": {},
   "outputs": [
    {
     "name": "stdout",
     "output_type": "stream",
     "text": [
      "Error de test (mse): 81.03958414446126\n"
     ]
    }
   ],
   "source": [
    "# Error test\n",
    "# ==============================================================================\n",
    "error_mse = mean_squared_error(\n",
    "                y_true = datos_test['y'],\n",
    "                y_pred = predicciones\n",
    "            )\n",
    "\n",
    "print(f\"Error de test (mse): {error_mse}\")"
   ]
  },
  {
   "cell_type": "code",
   "execution_count": 157,
   "metadata": {},
   "outputs": [
    {
     "name": "stdout",
     "output_type": "stream",
     "text": [
      "Number of models compared: 12.\n"
     ]
    },
    {
     "name": "stderr",
     "output_type": "stream",
     "text": [
      "lags grid: 100%|██████████| 2/2 [00:33<00:00, 16.71s/it]\n"
     ]
    },
    {
     "name": "stdout",
     "output_type": "stream",
     "text": [
      "`Forecaster` refitted using the best-found lags and parameters, and the whole data set: \n",
      "  Lags: [ 1  2  3  4  5  6  7  8  9 10] \n",
      "  Parameters: {'max_depth': 3, 'n_estimators': 500}\n",
      "  Backtesting metric: 299.0009273894926\n",
      "\n"
     ]
    }
   ],
   "source": [
    "# Grid search de hiperparámetros\n",
    "# ==============================================================================\n",
    "steps = 36\n",
    "forecaster = ForecasterAutoreg(\n",
    "                regressor = RandomForestRegressor(random_state=123),\n",
    "                lags      = 12 # Este valor será remplazado en el grid search\n",
    "             )\n",
    "\n",
    "# Lags utilizados como predictores\n",
    "lags_grid = [10, 20]\n",
    "\n",
    "# Hiperparámetros del regresor\n",
    "param_grid = {'n_estimators': [100, 500],\n",
    "              'max_depth': [3, 5, 10]}\n",
    "\n",
    "resultados_grid = grid_search_forecaster(\n",
    "                        forecaster         = forecaster,\n",
    "                        y                  = datos_train['y'],\n",
    "                        param_grid         = param_grid,\n",
    "                        lags_grid          = lags_grid,\n",
    "                        steps              = steps,\n",
    "                        refit              = False,\n",
    "                        metric             = 'mean_squared_error',\n",
    "                        initial_train_size = int(len(datos_train)*0.5),\n",
    "                        fixed_train_size   = False,\n",
    "                        return_best        = True,\n",
    "                        n_jobs             = 'auto',\n",
    "                        verbose            = False\n",
    "                  )"
   ]
  },
  {
   "cell_type": "code",
   "execution_count": 158,
   "metadata": {},
   "outputs": [
    {
     "data": {
      "text/html": [
       "<div>\n",
       "<style scoped>\n",
       "    .dataframe tbody tr th:only-of-type {\n",
       "        vertical-align: middle;\n",
       "    }\n",
       "\n",
       "    .dataframe tbody tr th {\n",
       "        vertical-align: top;\n",
       "    }\n",
       "\n",
       "    .dataframe thead th {\n",
       "        text-align: right;\n",
       "    }\n",
       "</style>\n",
       "<table border=\"1\" class=\"dataframe\">\n",
       "  <thead>\n",
       "    <tr style=\"text-align: right;\">\n",
       "      <th></th>\n",
       "      <th>lags</th>\n",
       "      <th>params</th>\n",
       "      <th>mean_squared_error</th>\n",
       "      <th>max_depth</th>\n",
       "      <th>n_estimators</th>\n",
       "    </tr>\n",
       "  </thead>\n",
       "  <tbody>\n",
       "    <tr>\n",
       "      <th>1</th>\n",
       "      <td>[1, 2, 3, 4, 5, 6, 7, 8, 9, 10]</td>\n",
       "      <td>{'max_depth': 3, 'n_estimators': 500}</td>\n",
       "      <td>299.000927</td>\n",
       "      <td>3</td>\n",
       "      <td>500</td>\n",
       "    </tr>\n",
       "    <tr>\n",
       "      <th>0</th>\n",
       "      <td>[1, 2, 3, 4, 5, 6, 7, 8, 9, 10]</td>\n",
       "      <td>{'max_depth': 3, 'n_estimators': 100}</td>\n",
       "      <td>301.618135</td>\n",
       "      <td>3</td>\n",
       "      <td>100</td>\n",
       "    </tr>\n",
       "    <tr>\n",
       "      <th>9</th>\n",
       "      <td>[1, 2, 3, 4, 5, 6, 7, 8, 9, 10, 11, 12, 13, 14...</td>\n",
       "      <td>{'max_depth': 5, 'n_estimators': 500}</td>\n",
       "      <td>306.026485</td>\n",
       "      <td>5</td>\n",
       "      <td>500</td>\n",
       "    </tr>\n",
       "    <tr>\n",
       "      <th>7</th>\n",
       "      <td>[1, 2, 3, 4, 5, 6, 7, 8, 9, 10, 11, 12, 13, 14...</td>\n",
       "      <td>{'max_depth': 3, 'n_estimators': 500}</td>\n",
       "      <td>308.736233</td>\n",
       "      <td>3</td>\n",
       "      <td>500</td>\n",
       "    </tr>\n",
       "    <tr>\n",
       "      <th>6</th>\n",
       "      <td>[1, 2, 3, 4, 5, 6, 7, 8, 9, 10, 11, 12, 13, 14...</td>\n",
       "      <td>{'max_depth': 3, 'n_estimators': 100}</td>\n",
       "      <td>309.206198</td>\n",
       "      <td>3</td>\n",
       "      <td>100</td>\n",
       "    </tr>\n",
       "    <tr>\n",
       "      <th>3</th>\n",
       "      <td>[1, 2, 3, 4, 5, 6, 7, 8, 9, 10]</td>\n",
       "      <td>{'max_depth': 5, 'n_estimators': 500}</td>\n",
       "      <td>310.662455</td>\n",
       "      <td>5</td>\n",
       "      <td>500</td>\n",
       "    </tr>\n",
       "    <tr>\n",
       "      <th>5</th>\n",
       "      <td>[1, 2, 3, 4, 5, 6, 7, 8, 9, 10]</td>\n",
       "      <td>{'max_depth': 10, 'n_estimators': 500}</td>\n",
       "      <td>314.941266</td>\n",
       "      <td>10</td>\n",
       "      <td>500</td>\n",
       "    </tr>\n",
       "    <tr>\n",
       "      <th>2</th>\n",
       "      <td>[1, 2, 3, 4, 5, 6, 7, 8, 9, 10]</td>\n",
       "      <td>{'max_depth': 5, 'n_estimators': 100}</td>\n",
       "      <td>316.125013</td>\n",
       "      <td>5</td>\n",
       "      <td>100</td>\n",
       "    </tr>\n",
       "    <tr>\n",
       "      <th>11</th>\n",
       "      <td>[1, 2, 3, 4, 5, 6, 7, 8, 9, 10, 11, 12, 13, 14...</td>\n",
       "      <td>{'max_depth': 10, 'n_estimators': 500}</td>\n",
       "      <td>318.144672</td>\n",
       "      <td>10</td>\n",
       "      <td>500</td>\n",
       "    </tr>\n",
       "    <tr>\n",
       "      <th>8</th>\n",
       "      <td>[1, 2, 3, 4, 5, 6, 7, 8, 9, 10, 11, 12, 13, 14...</td>\n",
       "      <td>{'max_depth': 5, 'n_estimators': 100}</td>\n",
       "      <td>320.314461</td>\n",
       "      <td>5</td>\n",
       "      <td>100</td>\n",
       "    </tr>\n",
       "    <tr>\n",
       "      <th>10</th>\n",
       "      <td>[1, 2, 3, 4, 5, 6, 7, 8, 9, 10, 11, 12, 13, 14...</td>\n",
       "      <td>{'max_depth': 10, 'n_estimators': 100}</td>\n",
       "      <td>322.220862</td>\n",
       "      <td>10</td>\n",
       "      <td>100</td>\n",
       "    </tr>\n",
       "    <tr>\n",
       "      <th>4</th>\n",
       "      <td>[1, 2, 3, 4, 5, 6, 7, 8, 9, 10]</td>\n",
       "      <td>{'max_depth': 10, 'n_estimators': 100}</td>\n",
       "      <td>360.521041</td>\n",
       "      <td>10</td>\n",
       "      <td>100</td>\n",
       "    </tr>\n",
       "  </tbody>\n",
       "</table>\n",
       "</div>"
      ],
      "text/plain": [
       "                                                 lags  \\\n",
       "1                     [1, 2, 3, 4, 5, 6, 7, 8, 9, 10]   \n",
       "0                     [1, 2, 3, 4, 5, 6, 7, 8, 9, 10]   \n",
       "9   [1, 2, 3, 4, 5, 6, 7, 8, 9, 10, 11, 12, 13, 14...   \n",
       "7   [1, 2, 3, 4, 5, 6, 7, 8, 9, 10, 11, 12, 13, 14...   \n",
       "6   [1, 2, 3, 4, 5, 6, 7, 8, 9, 10, 11, 12, 13, 14...   \n",
       "3                     [1, 2, 3, 4, 5, 6, 7, 8, 9, 10]   \n",
       "5                     [1, 2, 3, 4, 5, 6, 7, 8, 9, 10]   \n",
       "2                     [1, 2, 3, 4, 5, 6, 7, 8, 9, 10]   \n",
       "11  [1, 2, 3, 4, 5, 6, 7, 8, 9, 10, 11, 12, 13, 14...   \n",
       "8   [1, 2, 3, 4, 5, 6, 7, 8, 9, 10, 11, 12, 13, 14...   \n",
       "10  [1, 2, 3, 4, 5, 6, 7, 8, 9, 10, 11, 12, 13, 14...   \n",
       "4                     [1, 2, 3, 4, 5, 6, 7, 8, 9, 10]   \n",
       "\n",
       "                                    params  mean_squared_error  max_depth  \\\n",
       "1    {'max_depth': 3, 'n_estimators': 500}          299.000927          3   \n",
       "0    {'max_depth': 3, 'n_estimators': 100}          301.618135          3   \n",
       "9    {'max_depth': 5, 'n_estimators': 500}          306.026485          5   \n",
       "7    {'max_depth': 3, 'n_estimators': 500}          308.736233          3   \n",
       "6    {'max_depth': 3, 'n_estimators': 100}          309.206198          3   \n",
       "3    {'max_depth': 5, 'n_estimators': 500}          310.662455          5   \n",
       "5   {'max_depth': 10, 'n_estimators': 500}          314.941266         10   \n",
       "2    {'max_depth': 5, 'n_estimators': 100}          316.125013          5   \n",
       "11  {'max_depth': 10, 'n_estimators': 500}          318.144672         10   \n",
       "8    {'max_depth': 5, 'n_estimators': 100}          320.314461          5   \n",
       "10  {'max_depth': 10, 'n_estimators': 100}          322.220862         10   \n",
       "4   {'max_depth': 10, 'n_estimators': 100}          360.521041         10   \n",
       "\n",
       "    n_estimators  \n",
       "1            500  \n",
       "0            100  \n",
       "9            500  \n",
       "7            500  \n",
       "6            100  \n",
       "3            500  \n",
       "5            500  \n",
       "2            100  \n",
       "11           500  \n",
       "8            100  \n",
       "10           100  \n",
       "4            100  "
      ]
     },
     "execution_count": 158,
     "metadata": {},
     "output_type": "execute_result"
    }
   ],
   "source": [
    "# Resultados Grid Search\n",
    "# ==============================================================================\n",
    "resultados_grid"
   ]
  },
  {
   "cell_type": "code",
   "execution_count": 167,
   "metadata": {},
   "outputs": [],
   "source": [
    "max_max_depth = resultados_grid['max_depth'].max()\n",
    "max_n_estimators = resultados_grid['n_estimators'].max()\n",
    "max_lags =  resultados_grid['lags'].iloc[1].max()\n",
    "\n"
   ]
  },
  {
   "cell_type": "code",
   "execution_count": 159,
   "metadata": {},
   "outputs": [],
   "source": [
    "# Crear y entrenar forecaster con mejores hiperparámetros\n",
    "# ==============================================================================\n",
    "regressor = RandomForestRegressor(max_depth=max_max_depth, n_estimators=max_n_estimators, random_state=123)\n",
    "forecaster = ForecasterAutoreg(\n",
    "                                 regressor = regressor,\n",
    "                                 lags      = max_lags\n",
    "                              )\n",
    "\n",
    "forecaster.fit(y=datos_train['y'])"
   ]
  },
  {
   "cell_type": "code",
   "execution_count": 160,
   "metadata": {},
   "outputs": [],
   "source": [
    "# Predicciones\n",
    "# ==============================================================================\n",
    "predicciones = forecaster.predict(steps=steps)"
   ]
  },
  {
   "cell_type": "code",
   "execution_count": 161,
   "metadata": {},
   "outputs": [
    {
     "name": "stdout",
     "output_type": "stream",
     "text": [
      "Error de test (mse) 204.5498534749535\n"
     ]
    }
   ],
   "source": [
    "# Error test\n",
    "# ==============================================================================\n",
    "error_mse = mean_squared_error(y_true = datos_test['y'], y_pred = predicciones)\n",
    "print(f\"Error de test (mse) {error_mse}\")"
   ]
  },
  {
   "cell_type": "code",
   "execution_count": 162,
   "metadata": {},
   "outputs": [
    {
     "name": "stdout",
     "output_type": "stream",
     "text": [
      "Error de test (mse) 204.5498534749535\n"
     ]
    }
   ],
   "source": [
    "# Error de test\n",
    "# ==============================================================================\n",
    "error_mse = mean_squared_error(\n",
    "                y_true = datos_test['y'],\n",
    "                y_pred = predicciones\n",
    "            )\n",
    "\n",
    "print(f\"Error de test (mse) {error_mse}\")"
   ]
  },
  {
   "cell_type": "code",
   "execution_count": 163,
   "metadata": {},
   "outputs": [
    {
     "name": "stdout",
     "output_type": "stream",
     "text": [
      "Information of backtesting process\n",
      "----------------------------------\n",
      "Number of observations used for initial training: 267\n",
      "Number of observations used for backtesting: 108\n",
      "    Number of folds: 3\n",
      "    Number of steps per fold: 36\n",
      "    Number of steps to exclude from the end of each train set before test (gap): 0\n",
      "\n",
      "Fold: 0\n",
      "    Training:   0 -- 266  (n=267)\n",
      "    Validation: 267 -- 302  (n=36)\n",
      "Fold: 1\n",
      "    Training:   0 -- 302  (n=303)\n",
      "    Validation: 303 -- 338  (n=36)\n",
      "Fold: 2\n",
      "    Training:   0 -- 338  (n=339)\n",
      "    Validation: 339 -- 374  (n=36)\n",
      "\n"
     ]
    },
    {
     "name": "stderr",
     "output_type": "stream",
     "text": [
      "100%|██████████| 3/3 [00:00<00:00, 4492.29it/s]\n"
     ]
    },
    {
     "name": "stdout",
     "output_type": "stream",
     "text": [
      "Error de backtest: 91.80196254497197\n"
     ]
    }
   ],
   "source": [
    "# Backtesting\n",
    "# ==============================================================================\n",
    "steps = 36\n",
    "n_backtesting = 36*3 # Se separan para el backtest los últimos 9 años\n",
    "\n",
    "metrica, predicciones_backtest = backtesting_forecaster(\n",
    "                                    forecaster         = forecaster,\n",
    "                                    y                  = datos['y'],\n",
    "                                    initial_train_size = len(datos) - n_backtesting,\n",
    "                                    fixed_train_size   = False,\n",
    "                                    steps              = steps,\n",
    "                                    refit              = True,\n",
    "                                    metric             = 'mean_squared_error',\n",
    "                                    verbose            = True\n",
    "                                 )\n",
    "\n",
    "print(f\"Error de backtest: {metrica}\")"
   ]
  },
  {
   "cell_type": "code",
   "execution_count": 164,
   "metadata": {},
   "outputs": [
    {
     "data": {
      "image/png": "[encoded data removed]",
      "text/plain": [
       "<Figure size 700x250 with 1 Axes>"
      ]
     },
     "metadata": {},
     "output_type": "display_data"
    }
   ],
   "source": [
    "fig, ax = plt.subplots(figsize=(7, 2.5))\n",
    "datos.loc[predicciones_backtest.index, 'y'].plot(ax=ax, label='test')\n",
    "predicciones_backtest.plot(ax=ax, label='predicciones')\n",
    "ax.legend();"
   ]
  },
  {
   "cell_type": "code",
   "execution_count": 165,
   "metadata": {},
   "outputs": [
    {
     "data": {
      "text/html": [
       "<div>\n",
       "<style scoped>\n",
       "    .dataframe tbody tr th:only-of-type {\n",
       "        vertical-align: middle;\n",
       "    }\n",
       "\n",
       "    .dataframe tbody tr th {\n",
       "        vertical-align: top;\n",
       "    }\n",
       "\n",
       "    .dataframe thead th {\n",
       "        text-align: right;\n",
       "    }\n",
       "</style>\n",
       "<table border=\"1\" class=\"dataframe\">\n",
       "  <thead>\n",
       "    <tr style=\"text-align: right;\">\n",
       "      <th></th>\n",
       "      <th>feature</th>\n",
       "      <th>importance</th>\n",
       "    </tr>\n",
       "  </thead>\n",
       "  <tbody>\n",
       "    <tr>\n",
       "      <th>0</th>\n",
       "      <td>lag_1</td>\n",
       "      <td>0.964385</td>\n",
       "    </tr>\n",
       "    <tr>\n",
       "      <th>1</th>\n",
       "      <td>lag_2</td>\n",
       "      <td>0.024059</td>\n",
       "    </tr>\n",
       "    <tr>\n",
       "      <th>2</th>\n",
       "      <td>lag_3</td>\n",
       "      <td>0.002463</td>\n",
       "    </tr>\n",
       "    <tr>\n",
       "      <th>3</th>\n",
       "      <td>lag_4</td>\n",
       "      <td>0.008944</td>\n",
       "    </tr>\n",
       "    <tr>\n",
       "      <th>4</th>\n",
       "      <td>lag_5</td>\n",
       "      <td>0.000000</td>\n",
       "    </tr>\n",
       "    <tr>\n",
       "      <th>5</th>\n",
       "      <td>lag_6</td>\n",
       "      <td>0.000000</td>\n",
       "    </tr>\n",
       "    <tr>\n",
       "      <th>6</th>\n",
       "      <td>lag_7</td>\n",
       "      <td>0.000000</td>\n",
       "    </tr>\n",
       "    <tr>\n",
       "      <th>7</th>\n",
       "      <td>lag_8</td>\n",
       "      <td>0.000100</td>\n",
       "    </tr>\n",
       "    <tr>\n",
       "      <th>8</th>\n",
       "      <td>lag_9</td>\n",
       "      <td>0.000050</td>\n",
       "    </tr>\n",
       "    <tr>\n",
       "      <th>9</th>\n",
       "      <td>lag_10</td>\n",
       "      <td>0.000000</td>\n",
       "    </tr>\n",
       "  </tbody>\n",
       "</table>\n",
       "</div>"
      ],
      "text/plain": [
       "  feature  importance\n",
       "0   lag_1    0.964385\n",
       "1   lag_2    0.024059\n",
       "2   lag_3    0.002463\n",
       "3   lag_4    0.008944\n",
       "4   lag_5    0.000000\n",
       "5   lag_6    0.000000\n",
       "6   lag_7    0.000000\n",
       "7   lag_8    0.000100\n",
       "8   lag_9    0.000050\n",
       "9  lag_10    0.000000"
      ]
     },
     "execution_count": 165,
     "metadata": {},
     "output_type": "execute_result"
    }
   ],
   "source": [
    "# Importancia predictores\n",
    "# ==============================================================================\n",
    "impotancia = forecaster.get_feature_importances()\n",
    "impotancia"
   ]
  }
 ],
 "metadata": {
  "kernelspec": {
   "display_name": "Python 3",
   "language": "python",
   "name": "python3"
  },
  "language_info": {
   "codemirror_mode": {
    "name": "ipython",
    "version": 3
   },
   "file_extension": ".py",
   "mimetype": "text/x-python",
   "name": "python",
   "nbconvert_exporter": "python",
   "pygments_lexer": "ipython3",
   "version": "3.10.6"
  },
  "orig_nbformat": 4
 },
 "nbformat": 4,
 "nbformat_minor": 2
}
